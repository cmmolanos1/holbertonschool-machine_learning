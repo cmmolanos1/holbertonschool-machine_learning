{
  "nbformat": 4,
  "nbformat_minor": 0,
  "metadata": {
    "colab": {
      "name": "9366-V1-3_Transfer_Learning_.ipynb",
      "provenance": []
    },
    "kernelspec": {
      "name": "python3",
      "display_name": "Python 3"
    },
    "accelerator": "GPU"
  },
  "cells": [
    {
      "cell_type": "code",
      "metadata": {
        "id": "4KxeZs771U_m",
        "colab_type": "code",
        "colab": {
          "base_uri": "https://localhost:8080/",
          "height": 35
        },
        "outputId": "44b8317c-32c8-463b-8cf3-fafa0333d940"
      },
      "source": [
        "%tensorflow_version 1.x\n",
        "import tensorflow.keras as K\n",
        "import numpy as np\n",
        "import matplotlib.pyplot as plt"
      ],
      "execution_count": null,
      "outputs": [
        {
          "output_type": "stream",
          "text": [
            "TensorFlow 1.x selected.\n"
          ],
          "name": "stdout"
        }
      ]
    },
    {
      "cell_type": "code",
      "metadata": {
        "id": "TwVskZOdTGZe",
        "colab_type": "code",
        "colab": {}
      },
      "source": [
        "def preprocess_data(X, Y):\n",
        "    X = K.applications.resnet50.preprocess_input(X)\n",
        "    Y = K.utils.to_categorical(Y, 10)\n",
        "\n",
        "    return X, Y"
      ],
      "execution_count": null,
      "outputs": []
    },
    {
      "cell_type": "code",
      "metadata": {
        "id": "jK-vjPZA3Wwg",
        "colab_type": "code",
        "colab": {
          "base_uri": "https://localhost:8080/",
          "height": 423
        },
        "outputId": "104384a9-2b69-42a8-eec3-241b3dd8170d"
      },
      "source": [
        "if __name__ == '__main__':\n",
        "    # Divide the data in Train and Test Datasets\n",
        "    (x_train, y_train),(x_test, y_test) = K.datasets.cifar10.load_data()\n",
        "\n",
        "    x_train, y_train = preprocess_data(x_train, y_train)\n",
        "    x_test, y_test = preprocess_data(x_test, y_test)\n",
        "    \n",
        "    model = K.applications.ResNet50(include_top=False,\n",
        "                                 weights='imagenet',\n",
        "                                 input_shape=(224, 224, 3))\n",
        "\n",
        "    model_1= K.Sequential()\n",
        "    model_1.add(K.layers.UpSampling2D((7, 7)))\n",
        "    model_1.add(model)\n",
        "    model_1.add(K.layers.AveragePooling2D(pool_size=7)) \n",
        "    model_1.add(K.layers.Flatten())\n",
        "    model_1.add(K.layers.Dense(10,activation=('softmax')))\n",
        "\n",
        "    # model.summary()\n",
        "\n",
        "    checkpoint = K.callbacks.ModelCheckpoint(filepath='cifar10.h5',\n",
        "                                             monitor='val_acc',\n",
        "                                             mode='max',\n",
        "                                             verbose=1,\n",
        "                                             save_best_only=True)\n",
        "    \n",
        "    earlys = K.callbacks.EarlyStopping(monitor='val_acc',\n",
        "                                   mode='max',\n",
        "                                   verbose=1,\n",
        "                                   patience=10)\n",
        "\n",
        "    model_1.compile(optimizer=K.optimizers.RMSprop(learning_rate=1e-4),\n",
        "                  loss='categorical_crossentropy',\n",
        "                  metrics=['acc'])\n",
        "\n",
        "    model_1.fit(x_train, y_train,\n",
        "                validation_data=(x_test, y_test),\n",
        "                batch_size=32,\n",
        "                epochs=5,\n",
        "                verbose=1,\n",
        "                callbacks=[checkpoint, earlys])\n",
        "\n",
        "    model_1.save('cifar10.h5')"
      ],
      "execution_count": null,
      "outputs": [
        {
          "output_type": "stream",
          "text": [
            "Train on 50000 samples, validate on 10000 samples\n",
            "Epoch 1/5\n",
            "49984/50000 [============================>.] - ETA: 0s - loss: 0.3641 - acc: 0.8794\n",
            "Epoch 00001: val_acc improved from -inf to 0.90720, saving model to cifar10.h5\n",
            "50000/50000 [==============================] - 1407s 28ms/sample - loss: 0.3641 - acc: 0.8794 - val_loss: 0.3925 - val_acc: 0.9072\n",
            "Epoch 2/5\n",
            "49984/50000 [============================>.] - ETA: 0s - loss: 0.1633 - acc: 0.9463\n",
            "Epoch 00002: val_acc improved from 0.90720 to 0.92420, saving model to cifar10.h5\n",
            "50000/50000 [==============================] - 1392s 28ms/sample - loss: 0.1634 - acc: 0.9463 - val_loss: 0.3236 - val_acc: 0.9242\n",
            "Epoch 3/5\n",
            "49984/50000 [============================>.] - ETA: 0s - loss: 0.1024 - acc: 0.9651\n",
            "Epoch 00003: val_acc improved from 0.92420 to 0.92860, saving model to cifar10.h5\n",
            "50000/50000 [==============================] - 1393s 28ms/sample - loss: 0.1024 - acc: 0.9651 - val_loss: 0.2611 - val_acc: 0.9286\n",
            "Epoch 4/5\n",
            "49984/50000 [============================>.] - ETA: 0s - loss: 0.0706 - acc: 0.9769\n",
            "Epoch 00004: val_acc improved from 0.92860 to 0.93210, saving model to cifar10.h5\n",
            "50000/50000 [==============================] - 1395s 28ms/sample - loss: 0.0706 - acc: 0.9769 - val_loss: 0.2753 - val_acc: 0.9321\n",
            "Epoch 5/5\n",
            "49984/50000 [============================>.] - ETA: 0s - loss: 0.0604 - acc: 0.9799\n",
            "Epoch 00005: val_acc improved from 0.93210 to 0.93660, saving model to cifar10.h5\n",
            "50000/50000 [==============================] - 1393s 28ms/sample - loss: 0.0604 - acc: 0.9799 - val_loss: 0.2773 - val_acc: 0.9366\n"
          ],
          "name": "stdout"
        }
      ]
    },
    {
      "cell_type": "code",
      "metadata": {
        "id": "m_0GN7UH6tLW",
        "colab_type": "code",
        "colab": {
          "base_uri": "https://localhost:8080/",
          "height": 257
        },
        "outputId": "5e5b333f-3af3-4e28-bee6-2195dcb975b7"
      },
      "source": [
        "# fix issue with saving keras applications\n",
        "K.learning_phase = K.backend.learning_phase \n",
        "\n",
        "_, (X, Y) = K.datasets.cifar10.load_data()\n",
        "X_p, Y_p = preprocess_data(X, Y)\n",
        "model = K.models.load_model('cifar10.h5')\n",
        "model.evaluate(X_p, Y_p, batch_size=128, verbose=1)"
      ],
      "execution_count": null,
      "outputs": [
        {
          "output_type": "stream",
          "text": [
            "WARNING:tensorflow:From /tensorflow-1.15.2/python3.6/tensorflow_core/python/ops/init_ops.py:97: calling GlorotUniform.__init__ (from tensorflow.python.ops.init_ops) with dtype is deprecated and will be removed in a future version.\n",
            "Instructions for updating:\n",
            "Call initializer instance with the dtype argument instead of passing it to the constructor\n",
            "WARNING:tensorflow:From /tensorflow-1.15.2/python3.6/tensorflow_core/python/ops/init_ops.py:97: calling Zeros.__init__ (from tensorflow.python.ops.init_ops) with dtype is deprecated and will be removed in a future version.\n",
            "Instructions for updating:\n",
            "Call initializer instance with the dtype argument instead of passing it to the constructor\n",
            "WARNING:tensorflow:From /tensorflow-1.15.2/python3.6/tensorflow_core/python/ops/init_ops.py:97: calling Ones.__init__ (from tensorflow.python.ops.init_ops) with dtype is deprecated and will be removed in a future version.\n",
            "Instructions for updating:\n",
            "Call initializer instance with the dtype argument instead of passing it to the constructor\n",
            "WARNING:tensorflow:Sequential models without an `input_shape` passed to the first layer cannot reload their optimizer state. As a result, your model isstarting with a freshly initialized optimizer.\n",
            "10000/10000 [==============================] - 70s 7ms/sample - loss: 0.2773 - acc: 0.9366\n"
          ],
          "name": "stdout"
        },
        {
          "output_type": "execute_result",
          "data": {
            "text/plain": [
              "[0.27729836688041687, 0.9366]"
            ]
          },
          "metadata": {
            "tags": []
          },
          "execution_count": 6
        }
      ]
    },
    {
      "cell_type": "code",
      "metadata": {
        "id": "34B2tQE0VCp2",
        "colab_type": "code",
        "colab": {
          "base_uri": "https://localhost:8080/",
          "height": 348
        },
        "outputId": "110f36f7-d353-445d-f16d-df5d1572c712"
      },
      "source": [
        "model.summary()"
      ],
      "execution_count": null,
      "outputs": [
        {
          "output_type": "stream",
          "text": [
            "Model: \"sequential_2\"\n",
            "_________________________________________________________________\n",
            "Layer (type)                 Output Shape              Param #   \n",
            "=================================================================\n",
            "up_sampling2d_2 (UpSampling2 multiple                  0         \n",
            "_________________________________________________________________\n",
            "resnet50 (Model)             (None, 7, 7, 2048)        23587712  \n",
            "_________________________________________________________________\n",
            "average_pooling2d_2 (Average multiple                  0         \n",
            "_________________________________________________________________\n",
            "flatten_2 (Flatten)          multiple                  0         \n",
            "_________________________________________________________________\n",
            "dense_2 (Dense)              multiple                  20490     \n",
            "=================================================================\n",
            "Total params: 23,608,202\n",
            "Trainable params: 23,555,082\n",
            "Non-trainable params: 53,120\n",
            "_________________________________________________________________\n"
          ],
          "name": "stdout"
        }
      ]
    }
  ]
}