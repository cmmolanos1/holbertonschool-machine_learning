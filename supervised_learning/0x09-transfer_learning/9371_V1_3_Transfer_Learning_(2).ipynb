{
 "nbformat": 4,
 "nbformat_minor": 0,
 "metadata": {
  "colab": {
   "name": "9371-V1-3_Transfer_Learning_.ipynb",
   "provenance": []
  },
  "kernelspec": {
   "name": "python3",
   "display_name": "Python 3"
  },
  "accelerator": "GPU"
 },
 "cells": [
  {
   "cell_type": "code",
   "metadata": {
    "id": "4KxeZs771U_m",
    "colab_type": "code",
    "colab": {
     "base_uri": "https://localhost:8080/",
     "height": 35
    },
    "outputId": "1bcbf867-eb05-45f7-a582-0c36f3d46438"
   },
   "source": [
    "%tensorflow_version 1.x\n",
    "import tensorflow.keras as K\n",
    "import tensorflow as tf\n",
    "import numpy as np\n",
    "import matplotlib.pyplot as plt"
   ],
   "execution_count": 1,
   "outputs": [
    {
     "output_type": "stream",
     "text": [
      "TensorFlow 1.x selected.\n"
     ],
     "name": "stdout"
    }
   ]
  },
  {
   "cell_type": "code",
   "metadata": {
    "id": "TwVskZOdTGZe",
    "colab_type": "code",
    "colab": {}
   },
   "source": [
    "def preprocess_data(X, Y):\n",
    "    X = K.applications.resnet50.preprocess_input(X)\n",
    "    Y = K.utils.to_categorical(Y, 10)\n",
    "\n",
    "    return X, Y"
   ],
   "execution_count": 2,
   "outputs": []
  },
  {
   "cell_type": "code",
   "metadata": {
    "id": "jK-vjPZA3Wwg",
    "colab_type": "code",
    "colab": {
     "base_uri": "https://localhost:8080/",
     "height": 919
    },
    "outputId": "9f4f4191-8f4e-4aad-af69-d685d3bede99"
   },
   "source": [
    "if __name__ == '__main__':\n",
    "    # Divide the data in Train and Test Datasets\n",
    "    (x_train, y_train),(x_test, y_test) = K.datasets.cifar10.load_data()\n",
    "\n",
    "    x_train, y_train = preprocess_data(x_train, y_train)\n",
    "    x_test, y_test = preprocess_data(x_test, y_test)\n",
    "\n",
    "    target_size = (224, 224)\n",
    "    \n",
    "    model = K.applications.ResNet50(include_top=False,\n",
    "                                 weights='imagenet',\n",
    "                                 input_shape=(224, 224, 3))\n",
    "\n",
    "    model_1= K.Sequential()\n",
    "    model_1.add(K.layers.Lambda(lambda image: tf.image.resize(image, target_size))) \n",
    "    model_1.add(model)\n",
    "    model_1.add(K.layers.AveragePooling2D(pool_size=7)) \n",
    "    model_1.add(K.layers.Flatten())\n",
    "    model_1.add(K.layers.Dense(10,activation=('softmax')))\n",
    "\n",
    "    checkpoint = K.callbacks.ModelCheckpoint(filepath='cifar10.h5',\n",
    "                                             monitor='val_acc',\n",
    "                                             mode='max',\n",
    "                                             verbose=1,\n",
    "                                             save_best_only=True)\n",
    "    \n",
    "    earlys = K.callbacks.EarlyStopping(monitor='val_acc',\n",
    "                                   mode='max',\n",
    "                                   verbose=1,\n",
    "                                   patience=10)\n",
    "\n",
    "    model_1.compile(optimizer=K.optimizers.RMSprop(learning_rate=1e-4),\n",
    "                  loss='categorical_crossentropy',\n",
    "                  metrics=['acc'])\n",
    "\n",
    "    model_1.fit(x_train, y_train,\n",
    "                validation_data=(x_test, y_test),\n",
    "                batch_size=32,\n",
    "                epochs=10,\n",
    "                verbose=1,\n",
    "                callbacks=[checkpoint, earlys])\n",
    "\n",
    "    model_1.save('cifar10.h5')"
   ],
   "execution_count": 3,
   "outputs": [
    {
     "output_type": "stream",
     "text": [
      "Downloading data from https://www.cs.toronto.edu/~kriz/cifar-10-python.tar.gz\n",
      "170500096/170498071 [==============================] - 6s 0us/step\n",
      "WARNING:tensorflow:From /tensorflow-1.15.2/python3.6/tensorflow_core/python/ops/resource_variable_ops.py:1630: calling BaseResourceVariable.__init__ (from tensorflow.python.ops.resource_variable_ops) with constraint is deprecated and will be removed in a future version.\n",
      "Instructions for updating:\n",
      "If using Keras pass *_constraint arguments to layers.\n",
      "Downloading data from https://github.com/keras-team/keras-applications/releases/download/resnet/resnet50_weights_tf_dim_ordering_tf_kernels_notop.h5\n",
      "94773248/94765736 [==============================] - 4s 0us/step\n",
      "Train on 50000 samples, validate on 10000 samples\n",
      "Epoch 1/10\n",
      "49984/50000 [============================>.] - ETA: 0s - loss: 0.3439 - acc: 0.8869\n",
      "Epoch 00001: val_acc improved from -inf to 0.89310, saving model to cifar10.h5\n",
      "50000/50000 [==============================] - 851s 17ms/sample - loss: 0.3439 - acc: 0.8869 - val_loss: 0.4463 - val_acc: 0.8931\n",
      "Epoch 2/10\n",
      "49984/50000 [============================>.] - ETA: 0s - loss: 0.1601 - acc: 0.9482\n",
      "Epoch 00002: val_acc improved from 0.89310 to 0.92360, saving model to cifar10.h5\n",
      "50000/50000 [==============================] - 837s 17ms/sample - loss: 0.1601 - acc: 0.9483 - val_loss: 0.2978 - val_acc: 0.9236\n",
      "Epoch 3/10\n",
      "49984/50000 [============================>.] - ETA: 0s - loss: 0.1020 - acc: 0.9663\n",
      "Epoch 00003: val_acc did not improve from 0.92360\n",
      "50000/50000 [==============================] - 837s 17ms/sample - loss: 0.1020 - acc: 0.9663 - val_loss: 0.4205 - val_acc: 0.9132\n",
      "Epoch 4/10\n",
      "49984/50000 [============================>.] - ETA: 0s - loss: 0.0712 - acc: 0.9763\n",
      "Epoch 00004: val_acc improved from 0.92360 to 0.93180, saving model to cifar10.h5\n",
      "50000/50000 [==============================] - 837s 17ms/sample - loss: 0.0712 - acc: 0.9762 - val_loss: 0.2968 - val_acc: 0.9318\n",
      "Epoch 5/10\n",
      "49984/50000 [============================>.] - ETA: 0s - loss: 0.0587 - acc: 0.9805\n",
      "Epoch 00005: val_acc did not improve from 0.93180\n",
      "50000/50000 [==============================] - 836s 17ms/sample - loss: 0.0587 - acc: 0.9805 - val_loss: 0.2878 - val_acc: 0.9210\n",
      "Epoch 6/10\n",
      "49984/50000 [============================>.] - ETA: 0s - loss: 0.0467 - acc: 0.9846\n",
      "Epoch 00006: val_acc improved from 0.93180 to 0.93510, saving model to cifar10.h5\n",
      "50000/50000 [==============================] - 836s 17ms/sample - loss: 0.0467 - acc: 0.9846 - val_loss: 0.3006 - val_acc: 0.9351\n",
      "Epoch 7/10\n",
      "49984/50000 [============================>.] - ETA: 0s - loss: 0.0437 - acc: 0.9854\n",
      "Epoch 00007: val_acc improved from 0.93510 to 0.93710, saving model to cifar10.h5\n",
      "50000/50000 [==============================] - 837s 17ms/sample - loss: 0.0437 - acc: 0.9854 - val_loss: 0.2523 - val_acc: 0.9371\n",
      "Epoch 8/10\n",
      "49984/50000 [============================>.] - ETA: 0s - loss: 0.0348 - acc: 0.9887\n",
      "Epoch 00008: val_acc did not improve from 0.93710\n",
      "50000/50000 [==============================] - 838s 17ms/sample - loss: 0.0348 - acc: 0.9887 - val_loss: 0.2717 - val_acc: 0.9357\n",
      "Epoch 9/10\n",
      "49984/50000 [============================>.] - ETA: 0s - loss: 0.0330 - acc: 0.9898\n",
      "Epoch 00009: val_acc did not improve from 0.93710\n",
      "50000/50000 [==============================] - 837s 17ms/sample - loss: 0.0330 - acc: 0.9898 - val_loss: 0.3200 - val_acc: 0.9345\n",
      "Epoch 10/10\n",
      "49984/50000 [============================>.] - ETA: 0s - loss: 0.0288 - acc: 0.9907\n",
      "Epoch 00010: val_acc did not improve from 0.93710\n",
      "50000/50000 [==============================] - 837s 17ms/sample - loss: 0.0288 - acc: 0.9907 - val_loss: 0.3290 - val_acc: 0.9329\n"
     ],
     "name": "stdout"
    }
   ]
  },
  {
   "cell_type": "code",
   "metadata": {
    "id": "34B2tQE0VCp2",
    "colab_type": "code",
    "colab": {
     "base_uri": "https://localhost:8080/",
     "height": 348
    },
    "outputId": "8253c69e-697a-49c4-ad15-d325be23edc5"
   },
   "source": [
    "model_1.summary()"
   ],
   "execution_count": 5,
   "outputs": [
    {
     "output_type": "stream",
     "text": [
      "Model: \"sequential\"\n",
      "_________________________________________________________________\n",
      "Layer (type)                 Output Shape              Param #   \n",
      "=================================================================\n",
      "lambda (Lambda)              multiple                  0         \n",
      "_________________________________________________________________\n",
      "resnet50 (Model)             (None, 7, 7, 2048)        23587712  \n",
      "_________________________________________________________________\n",
      "average_pooling2d (AveragePo multiple                  0         \n",
      "_________________________________________________________________\n",
      "flatten (Flatten)            multiple                  0         \n",
      "_________________________________________________________________\n",
      "dense (Dense)                multiple                  20490     \n",
      "=================================================================\n",
      "Total params: 23,608,202\n",
      "Trainable params: 23,555,082\n",
      "Non-trainable params: 53,120\n",
      "_________________________________________________________________\n"
     ],
     "name": "stdout"
    }
   ]
  }
 ]
}